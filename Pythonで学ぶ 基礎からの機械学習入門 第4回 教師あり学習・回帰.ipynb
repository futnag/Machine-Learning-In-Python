{
 "cells": [
  {
   "cell_type": "markdown",
   "metadata": {
    "collapsed": true
   },
   "source": [
    "# Pythonで学ぶ 基礎からの機械学習入門\n",
    "## 第4回 教師あり学習・回帰に挑戦してみよう"
   ]
  },
  {
   "cell_type": "code",
   "execution_count": 22,
   "metadata": {
    "collapsed": true
   },
   "outputs": [],
   "source": [
    "import pandas as pd\n",
    "import matplotlib.pyplot as plt\n",
    "from sklearn.linear_model import LinearRegression\n"
   ]
  },
  {
   "cell_type": "code",
   "execution_count": 40,
   "metadata": {},
   "outputs": [
    {
     "data": {
      "text/html": [
       "<div>\n",
       "<style scoped>\n",
       "    .dataframe tbody tr th:only-of-type {\n",
       "        vertical-align: middle;\n",
       "    }\n",
       "\n",
       "    .dataframe tbody tr th {\n",
       "        vertical-align: top;\n",
       "    }\n",
       "\n",
       "    .dataframe thead th {\n",
       "        text-align: right;\n",
       "    }\n",
       "</style>\n",
       "<table border=\"1\" class=\"dataframe\">\n",
       "  <thead>\n",
       "    <tr style=\"text-align: right;\">\n",
       "      <th></th>\n",
       "      <th>都道府県</th>\n",
       "      <th>人口密度</th>\n",
       "      <th>県内総生産額</th>\n",
       "      <th>事業所数</th>\n",
       "      <th>コンビニ数</th>\n",
       "      <th>飲食店数</th>\n",
       "      <th>病院数</th>\n",
       "      <th>家賃</th>\n",
       "    </tr>\n",
       "  </thead>\n",
       "  <tbody>\n",
       "    <tr>\n",
       "      <th>0</th>\n",
       "      <td>北 海 道</td>\n",
       "      <td>240.5</td>\n",
       "      <td>182688</td>\n",
       "      <td>233037</td>\n",
       "      <td>2194</td>\n",
       "      <td>28225</td>\n",
       "      <td>499</td>\n",
       "      <td>3723</td>\n",
       "    </tr>\n",
       "    <tr>\n",
       "      <th>1</th>\n",
       "      <td>青 森 県</td>\n",
       "      <td>405.1</td>\n",
       "      <td>44115</td>\n",
       "      <td>59958</td>\n",
       "      <td>404</td>\n",
       "      <td>7022</td>\n",
       "      <td>81</td>\n",
       "      <td>3671</td>\n",
       "    </tr>\n",
       "    <tr>\n",
       "      <th>2</th>\n",
       "      <td>岩 手 県</td>\n",
       "      <td>344.5</td>\n",
       "      <td>45162</td>\n",
       "      <td>59500</td>\n",
       "      <td>398</td>\n",
       "      <td>5838</td>\n",
       "      <td>76</td>\n",
       "      <td>4182</td>\n",
       "    </tr>\n",
       "    <tr>\n",
       "      <th>3</th>\n",
       "      <td>宮 城 県</td>\n",
       "      <td>739.8</td>\n",
       "      <td>88166</td>\n",
       "      <td>99539</td>\n",
       "      <td>777</td>\n",
       "      <td>9691</td>\n",
       "      <td>115</td>\n",
       "      <td>4582</td>\n",
       "    </tr>\n",
       "    <tr>\n",
       "      <th>4</th>\n",
       "      <td>秋 田 県</td>\n",
       "      <td>319.3</td>\n",
       "      <td>34773</td>\n",
       "      <td>50457</td>\n",
       "      <td>309</td>\n",
       "      <td>4983</td>\n",
       "      <td>56</td>\n",
       "      <td>3936</td>\n",
       "    </tr>\n",
       "  </tbody>\n",
       "</table>\n",
       "</div>"
      ],
      "text/plain": [
       "    都道府県   人口密度  県内総生産額    事業所数  コンビニ数   飲食店数  病院数    家賃\n",
       "0  北 海 道  240.5  182688  233037   2194  28225  499  3723\n",
       "1  青 森 県  405.1   44115   59958    404   7022   81  3671\n",
       "2  岩 手 県  344.5   45162   59500    398   5838   76  4182\n",
       "3  宮 城 県  739.8   88166   99539    777   9691  115  4582\n",
       "4  秋 田 県  319.3   34773   50457    309   4983   56  3936"
      ]
     },
     "execution_count": 40,
     "metadata": {},
     "output_type": "execute_result"
    }
   ],
   "source": [
    "all_data = pd.read_csv(\"monthlyRent.csv\")\n",
    "all_data.head()"
   ]
  },
  {
   "cell_type": "code",
   "execution_count": 21,
   "metadata": {},
   "outputs": [
    {
     "data": {
      "text/html": [
       "<div>\n",
       "<style scoped>\n",
       "    .dataframe tbody tr th:only-of-type {\n",
       "        vertical-align: middle;\n",
       "    }\n",
       "\n",
       "    .dataframe tbody tr th {\n",
       "        vertical-align: top;\n",
       "    }\n",
       "\n",
       "    .dataframe thead th {\n",
       "        text-align: right;\n",
       "    }\n",
       "</style>\n",
       "<table border=\"1\" class=\"dataframe\">\n",
       "  <thead>\n",
       "    <tr style=\"text-align: right;\">\n",
       "      <th></th>\n",
       "      <th>都道府県</th>\n",
       "      <th>人口密度</th>\n",
       "      <th>県内総生産額</th>\n",
       "      <th>事業所数</th>\n",
       "      <th>コンビニ数</th>\n",
       "      <th>飲食店数</th>\n",
       "      <th>病院数</th>\n",
       "      <th>家賃</th>\n",
       "    </tr>\n",
       "  </thead>\n",
       "  <tbody>\n",
       "    <tr>\n",
       "      <th>12</th>\n",
       "      <td>東 京 都</td>\n",
       "      <td>9528.5</td>\n",
       "      <td>931283</td>\n",
       "      <td>653819</td>\n",
       "      <td>4319</td>\n",
       "      <td>83397</td>\n",
       "      <td>592</td>\n",
       "      <td>8631</td>\n",
       "    </tr>\n",
       "    <tr>\n",
       "      <th>13</th>\n",
       "      <td>神奈川県</td>\n",
       "      <td>6205.8</td>\n",
       "      <td>302185</td>\n",
       "      <td>299573</td>\n",
       "      <td>2373</td>\n",
       "      <td>34503</td>\n",
       "      <td>294</td>\n",
       "      <td>7092</td>\n",
       "    </tr>\n",
       "    <tr>\n",
       "      <th>10</th>\n",
       "      <td>埼 玉 県</td>\n",
       "      <td>2811.4</td>\n",
       "      <td>206782</td>\n",
       "      <td>249078</td>\n",
       "      <td>1670</td>\n",
       "      <td>25409</td>\n",
       "      <td>292</td>\n",
       "      <td>6332</td>\n",
       "    </tr>\n",
       "    <tr>\n",
       "      <th>26</th>\n",
       "      <td>大 阪 府</td>\n",
       "      <td>6643.3</td>\n",
       "      <td>373150</td>\n",
       "      <td>413110</td>\n",
       "      <td>1877</td>\n",
       "      <td>50699</td>\n",
       "      <td>491</td>\n",
       "      <td>5847</td>\n",
       "    </tr>\n",
       "    <tr>\n",
       "      <th>27</th>\n",
       "      <td>兵 庫 県</td>\n",
       "      <td>1988.8</td>\n",
       "      <td>192325</td>\n",
       "      <td>224343</td>\n",
       "      <td>1189</td>\n",
       "      <td>28991</td>\n",
       "      <td>321</td>\n",
       "      <td>5693</td>\n",
       "    </tr>\n",
       "  </tbody>\n",
       "</table>\n",
       "</div>"
      ],
      "text/plain": [
       "     都道府県    人口密度  県内総生産額    事業所数  コンビニ数   飲食店数  病院数    家賃\n",
       "12  東 京 都  9528.5  931283  653819   4319  83397  592  8631\n",
       "13   神奈川県  6205.8  302185  299573   2373  34503  294  7092\n",
       "10  埼 玉 県  2811.4  206782  249078   1670  25409  292  6332\n",
       "26  大 阪 府  6643.3  373150  413110   1877  50699  491  5847\n",
       "27  兵 庫 県  1988.8  192325  224343   1189  28991  321  5693"
      ]
     },
     "execution_count": 21,
     "metadata": {},
     "output_type": "execute_result"
    }
   ],
   "source": [
    "all_data.sort_values(by=['家賃'], ascending=False).head()"
   ]
  },
  {
   "cell_type": "code",
   "execution_count": 20,
   "metadata": {},
   "outputs": [
    {
     "data": {
      "image/png": "[encoded data removed]",
      "text/plain": [
       "<matplotlib.figure.Figure at 0x119f593c8>"
      ]
     },
     "metadata": {},
     "output_type": "display_data"
    }
   ],
   "source": [
    "plt.scatter(all_data['人口密度'], all_data['家賃'])\n",
    "plt.xlabel(\"Population Density\")\n",
    "plt.ylabel(\"Montyly Rent\")\n",
    "plt.show()"
   ]
  },
  {
   "cell_type": "code",
   "execution_count": 23,
   "metadata": {},
   "outputs": [
    {
     "data": {
      "text/plain": [
       "LinearRegression(copy_X=True, fit_intercept=True, n_jobs=1, normalize=False)"
      ]
     },
     "execution_count": 23,
     "metadata": {},
     "output_type": "execute_result"
    }
   ],
   "source": [
    "x1 = all_data[['人口密度']]\n",
    "y1 = all_data['家賃']\n",
    "model_1 = LinearRegression()\n",
    "model_1.fit(x1, y1)"
   ]
  },
  {
   "cell_type": "code",
   "execution_count": 26,
   "metadata": {},
   "outputs": [
    {
     "data": {
      "image/png": "[encoded data removed]",
      "text/plain": [
       "<matplotlib.figure.Figure at 0x11a06a748>"
      ]
     },
     "metadata": {},
     "output_type": "display_data"
    }
   ],
   "source": [
    "plt.scatter(all_data['人口密度'], all_data['家賃'])\n",
    "plt.xlabel(\"Population Density\")\n",
    "plt.ylabel(\"Montyly Rent\")\n",
    "plt.plot(x1, model_1.predict(x1))\n",
    "plt.show()\n"
   ]
  },
  {
   "cell_type": "code",
   "execution_count": 38,
   "metadata": {},
   "outputs": [
    {
     "name": "stdout",
     "output_type": "stream",
     "text": [
      "a :  0.501853516528\n",
      "b :  3681.19648223\n",
      "決定係数 :  0.76091862005\n",
      "人口密度4000のときの家賃:  8699.73164751\n"
     ]
    }
   ],
   "source": [
    "# y = a * x + b\n",
    "print(\"a : \", model_1.coef_[0])\n",
    "print(\"b : \", model_1.intercept_)\n",
    "print(\"決定係数 : \", model_1.score(x1, y1))\n",
    "\n",
    "print(\"人口密度4000のときの家賃: \",model_1.predict(10000)[0])"
   ]
  },
  {
   "cell_type": "code",
   "execution_count": null,
   "metadata": {
    "collapsed": true
   },
   "outputs": [],
   "source": [
    "変数を拡張して線形回帰"
   ]
  },
  {
   "cell_type": "code",
   "execution_count": 43,
   "metadata": {},
   "outputs": [
    {
     "data": {
      "text/html": [
       "<div>\n",
       "<style scoped>\n",
       "    .dataframe tbody tr th:only-of-type {\n",
       "        vertical-align: middle;\n",
       "    }\n",
       "\n",
       "    .dataframe tbody tr th {\n",
       "        vertical-align: top;\n",
       "    }\n",
       "\n",
       "    .dataframe thead th {\n",
       "        text-align: right;\n",
       "    }\n",
       "</style>\n",
       "<table border=\"1\" class=\"dataframe\">\n",
       "  <thead>\n",
       "    <tr style=\"text-align: right;\">\n",
       "      <th></th>\n",
       "      <th>人口密度</th>\n",
       "      <th>県内総生産額</th>\n",
       "      <th>事業所数</th>\n",
       "      <th>コンビニ数</th>\n",
       "      <th>飲食店数</th>\n",
       "      <th>病院数</th>\n",
       "    </tr>\n",
       "  </thead>\n",
       "  <tbody>\n",
       "    <tr>\n",
       "      <th>0</th>\n",
       "      <td>240.5</td>\n",
       "      <td>182688</td>\n",
       "      <td>233037</td>\n",
       "      <td>2194</td>\n",
       "      <td>28225</td>\n",
       "      <td>499</td>\n",
       "    </tr>\n",
       "    <tr>\n",
       "      <th>1</th>\n",
       "      <td>405.1</td>\n",
       "      <td>44115</td>\n",
       "      <td>59958</td>\n",
       "      <td>404</td>\n",
       "      <td>7022</td>\n",
       "      <td>81</td>\n",
       "    </tr>\n",
       "    <tr>\n",
       "      <th>2</th>\n",
       "      <td>344.5</td>\n",
       "      <td>45162</td>\n",
       "      <td>59500</td>\n",
       "      <td>398</td>\n",
       "      <td>5838</td>\n",
       "      <td>76</td>\n",
       "    </tr>\n",
       "    <tr>\n",
       "      <th>3</th>\n",
       "      <td>739.8</td>\n",
       "      <td>88166</td>\n",
       "      <td>99539</td>\n",
       "      <td>777</td>\n",
       "      <td>9691</td>\n",
       "      <td>115</td>\n",
       "    </tr>\n",
       "    <tr>\n",
       "      <th>4</th>\n",
       "      <td>319.3</td>\n",
       "      <td>34773</td>\n",
       "      <td>50457</td>\n",
       "      <td>309</td>\n",
       "      <td>4983</td>\n",
       "      <td>56</td>\n",
       "    </tr>\n",
       "  </tbody>\n",
       "</table>\n",
       "</div>"
      ],
      "text/plain": [
       "    人口密度  県内総生産額    事業所数  コンビニ数   飲食店数  病院数\n",
       "0  240.5  182688  233037   2194  28225  499\n",
       "1  405.1   44115   59958    404   7022   81\n",
       "2  344.5   45162   59500    398   5838   76\n",
       "3  739.8   88166   99539    777   9691  115\n",
       "4  319.3   34773   50457    309   4983   56"
      ]
     },
     "execution_count": 43,
     "metadata": {},
     "output_type": "execute_result"
    }
   ],
   "source": [
    "# 目的変数として、家賃を用いる\n",
    "y2 = all_data['家賃']\n",
    "# 都道府県、家賃を落としたデータを説明変数として用いる\n",
    "x2 = all_data.drop(['都道府県', '家賃'], axis=1)\n",
    "x2.head()"
   ]
  },
  {
   "cell_type": "code",
   "execution_count": 46,
   "metadata": {},
   "outputs": [
    {
     "name": "stdout",
     "output_type": "stream",
     "text": [
      "        係数値     係数名\n",
      "0  0.432700    人口密度\n",
      "1 -0.000443  県内総生産額\n",
      "2  0.005487    事業所数\n",
      "3  0.603837   コンビニ数\n",
      "4 -0.051374    飲食店数\n",
      "5 -1.184765     病院数\n",
      "切片 :  3587.40016326\n",
      "決定係数 :  0.792383206471\n"
     ]
    }
   ],
   "source": [
    "model_2 = LinearRegression()\n",
    "model_2.fit(x2, y2)\n",
    "print(pd.DataFrame({'係数名':x2.columns, '係数値':model_2.coef_}))\n",
    "print(\"切片 : \", model_2.intercept_)\n",
    "print(\"決定係数 : \", model_2.score(x2, y2))"
   ]
  },
  {
   "cell_type": "code",
   "execution_count": 47,
   "metadata": {},
   "outputs": [
    {
     "data": {
      "text/plain": [
       "array([ 5563.45160471])"
      ]
     },
     "execution_count": 47,
     "metadata": {},
     "output_type": "execute_result"
    }
   ],
   "source": [
    "# 実際に予測してみる\n",
    "\n",
    "x_prediction = pd.DataFrame([[4000, 50000, 100000, 1000, 14000, 140]])\n",
    "model_2.predict(x_prediction)"
   ]
  },
  {
   "cell_type": "code",
   "execution_count": null,
   "metadata": {
    "collapsed": true
   },
   "outputs": [],
   "source": []
  }
 ],
 "metadata": {
  "kernelspec": {
   "display_name": "Python 3",
   "language": "python",
   "name": "python3"
  },
  "language_info": {
   "codemirror_mode": {
    "name": "ipython",
    "version": 3
   },
   "file_extension": ".py",
   "mimetype": "text/x-python",
   "name": "python",
   "nbconvert_exporter": "python",
   "pygments_lexer": "ipython3",
   "version": "3.6.4"
  }
 },
 "nbformat": 4,
 "nbformat_minor": 2
}
